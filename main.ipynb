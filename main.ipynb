{
 "cells": [
  {
   "cell_type": "code",
   "execution_count": 613,
   "id": "initial_id",
   "metadata": {
    "collapsed": true,
    "ExecuteTime": {
     "end_time": "2024-03-26T19:33:44.425045Z",
     "start_time": "2024-03-26T19:33:44.029382Z"
    }
   },
   "outputs": [],
   "source": [
    "# Adapted from: https://www.kaggle.com/code/wwsalmon/simple-mnist-nn-from-scratch-numpy-no-tf-keras\n",
    "import numpy as np"
   ]
  },
  {
   "cell_type": "code",
   "execution_count": 593,
   "outputs": [],
   "source": [
    "X = np.array([[0, 0, 0],\n",
    "              [0, 0, 1],\n",
    "              [0, 1, 0],\n",
    "              [0, 1, 1],\n",
    "              [1, 0, 0],\n",
    "              [1, 0, 1]])\n",
    "\n",
    "X = X.T\n",
    "\n",
    "Y = np.array([[0],\n",
    "              [0],\n",
    "              [0],\n",
    "              [1],\n",
    "              [0],\n",
    "              [1]])\n",
    "\n",
    "M = X.shape[1]"
   ],
   "metadata": {
    "collapsed": false,
    "ExecuteTime": {
     "end_time": "2024-03-26T18:38:00.505437Z",
     "start_time": "2024-03-26T18:38:00.481030Z"
    }
   },
   "id": "ba2aeb769b433fed"
  },
  {
   "cell_type": "code",
   "execution_count": 594,
   "outputs": [],
   "source": [
    "X = (X - np.mean(X)) / np.std(X)"
   ],
   "metadata": {
    "collapsed": false,
    "ExecuteTime": {
     "end_time": "2024-03-26T18:38:00.525888Z",
     "start_time": "2024-03-26T18:38:00.485648Z"
    }
   },
   "id": "a2f134a23757a434"
  },
  {
   "cell_type": "code",
   "execution_count": 595,
   "outputs": [],
   "source": [
    "nZ1 = 10 # number of nodes in hidden layer Z1\n",
    "nZ2 = 20 # number of nodes in Z2"
   ],
   "metadata": {
    "collapsed": false,
    "ExecuteTime": {
     "end_time": "2024-03-26T18:38:00.526073Z",
     "start_time": "2024-03-26T18:38:00.490132Z"
    }
   },
   "id": "86595b0f426093c2"
  },
  {
   "cell_type": "code",
   "execution_count": 596,
   "outputs": [],
   "source": [
    "def init_params():\n",
    "    W1 = np.random.rand(nZ1, X.shape[0]) - 0.5\n",
    "    W2 = np.random.rand(nZ2, nZ1) - 0.5\n",
    "    W3 = np.random.rand(Y.shape[1], nZ2) - 0.5\n",
    "    b1 = np.random.rand(nZ1, 1) - 0.5\n",
    "    b2 = np.random.rand(nZ2, 1) - 0.5\n",
    "    b3 = np.random.rand(Y.shape[1], 1) - 0.5\n",
    "    \n",
    "    return W1, b1, W2, b2, W3, b3"
   ],
   "metadata": {
    "collapsed": false,
    "ExecuteTime": {
     "end_time": "2024-03-26T18:38:00.526177Z",
     "start_time": "2024-03-26T18:38:00.497093Z"
    }
   },
   "id": "7d91341b9d08d429"
  },
  {
   "cell_type": "code",
   "execution_count": 597,
   "outputs": [],
   "source": [
    "leakyReLUConstant = 0.01\n",
    "\n",
    "def leakyReLU(X):\n",
    "    return np.maximum(leakyReLUConstant * X, X)\n",
    "\n",
    "def derivativeLeakyReLU(X):\n",
    "    return np.where(X > 0, 1, leakyReLUConstant)\n",
    "\n",
    "def sigmoid(X):\n",
    "    return 1 / (1 + np.exp(-X))\n",
    "\n",
    "def derivativeSigmoid(X):\n",
    "    return X * (1 - X)"
   ],
   "metadata": {
    "collapsed": false,
    "ExecuteTime": {
     "end_time": "2024-03-26T18:38:00.527276Z",
     "start_time": "2024-03-26T18:38:00.501820Z"
    }
   },
   "id": "e43a8bd229b44b9f"
  },
  {
   "cell_type": "code",
   "execution_count": 598,
   "outputs": [],
   "source": [
    "def forward(X, W1, W2, W3, b1, b2, b3):\n",
    "    Z1 = W1.dot(X) + b1\n",
    "    A1 = leakyReLU(Z1)\n",
    "    Z2 = W2.dot(A1) + b2\n",
    "    A2 = leakyReLU(Z2)\n",
    "    Z3 = W3.dot(A2) + b3\n",
    "    A3 = sigmoid(Z3)\n",
    "    \n",
    "    return Z1, A1, Z2, A2, Z3, A3\n"
   ],
   "metadata": {
    "collapsed": false,
    "ExecuteTime": {
     "end_time": "2024-03-26T18:38:00.527796Z",
     "start_time": "2024-03-26T18:38:00.508518Z"
    }
   },
   "id": "ce9aaa2be1fef8a0"
  },
  {
   "cell_type": "code",
   "execution_count": 599,
   "outputs": [],
   "source": [
    "def backwardProp(X, Y, W2, W3, Z1, A1, Z2, A2, Z3, A3):\n",
    "    dZ3 = (A3 - Y.T)\n",
    "    dW3 = 1/M * dZ3.dot(A2.T)\n",
    "    db3 = 1/M * np.sum(dZ3)\n",
    "    dZ2 = derivativeLeakyReLU(Z2) * W3.T.dot(dZ3)\n",
    "    dW2 = 1/M * dZ2.dot(A1.T)\n",
    "    db2 = 1/M * np.sum(dZ2)\n",
    "    dZ1 = derivativeLeakyReLU(Z1) * W2.T.dot(dZ2)\n",
    "    dW1 = 1/M * dZ1.dot(X.T)\n",
    "    db1 = 1/M * np.sum(dZ1)\n",
    "    \n",
    "    return dW3, db3, dW2, db2, dW1, db1"
   ],
   "metadata": {
    "collapsed": false,
    "ExecuteTime": {
     "end_time": "2024-03-26T18:38:00.527965Z",
     "start_time": "2024-03-26T18:38:00.514520Z"
    }
   },
   "id": "b982fda4bc14b54d"
  },
  {
   "cell_type": "code",
   "execution_count": 600,
   "outputs": [],
   "source": [
    "def update_params(alpha, W1, b1, W2, b2, W3, b3, dW1, db1, dW2, db2, dW3, db3):\n",
    "    W1 = W1 - alpha * dW1\n",
    "    b1 = b1 - alpha * db1\n",
    "    \n",
    "    W2 = W2 - alpha * dW2\n",
    "    b2 = b2 - alpha * db2\n",
    "    \n",
    "    W3 = W3 - alpha * dW3\n",
    "    b3 = b3 - alpha * db3\n",
    "    \n",
    "    return W1, b1, W2, b2, W3, b3"
   ],
   "metadata": {
    "collapsed": false,
    "ExecuteTime": {
     "end_time": "2024-03-26T18:38:00.528093Z",
     "start_time": "2024-03-26T18:38:00.518427Z"
    }
   },
   "id": "9865e983326b32e2"
  },
  {
   "cell_type": "code",
   "execution_count": 601,
   "outputs": [],
   "source": [
    "def get_predictions(A3):\n",
    "    return np.where(A3 > 0.5, 1, 0)\n",
    "\n",
    "def get_accuracy(predictions, Y):\n",
    "    return np.sum(predictions == Y) / M"
   ],
   "metadata": {
    "collapsed": false,
    "ExecuteTime": {
     "end_time": "2024-03-26T18:38:00.538885Z",
     "start_time": "2024-03-26T18:38:00.523870Z"
    }
   },
   "id": "a0bcad38b93b705a"
  },
  {
   "cell_type": "code",
   "execution_count": 602,
   "outputs": [],
   "source": [
    "def learn(X, Y, alpha, iter):\n",
    "    W1, b1, W2, b2, W3, b3 = init_params()\n",
    "    for i in range(iter):\n",
    "        Z1, A1, Z2, A2, Z3, A3 = forward(X, W1, W2, W3, b1, b2, b3)\n",
    "        dW3, db3, dW2, db2, dW1, db1 = backwardProp(X, Y, W2, W3, Z1, A1, Z2, A2, Z3, A3)\n",
    "        W1, b1, W2, b2, W3, b3 = update_params(alpha, W1, b1, W2, b2, W3, b3, dW1, db1, dW2, db2, dW3, db3)\n",
    "        if i % 10 == 0:\n",
    "            print(\"Iteration\", i)\n",
    "            predictions = get_predictions(A3)\n",
    "            print(A3)\n",
    "            print(Y.T)\n",
    "            print(predictions)\n",
    "            print(get_accuracy(predictions, Y.T))\n",
    "    return W1, b1, W2, b2, W3, b3"
   ],
   "metadata": {
    "collapsed": false,
    "ExecuteTime": {
     "end_time": "2024-03-26T18:38:00.539177Z",
     "start_time": "2024-03-26T18:38:00.532967Z"
    }
   },
   "id": "857fd9d3583660e1"
  },
  {
   "cell_type": "code",
   "execution_count": 603,
   "outputs": [],
   "source": [
    "def testPrediction(testX, W1, W2, W3, b1, b2, b3):\n",
    "    Z1, A1, Z2, A2, Z3, A3 = forward(testX, W1, W2, W3, b1, b2, b3)\n",
    "    return A3"
   ],
   "metadata": {
    "collapsed": false,
    "ExecuteTime": {
     "end_time": "2024-03-26T18:38:00.548691Z",
     "start_time": "2024-03-26T18:38:00.538395Z"
    }
   },
   "id": "ae3b43cf5b8baff7"
  },
  {
   "cell_type": "code",
   "execution_count": 618,
   "outputs": [
    {
     "name": "stdout",
     "output_type": "stream",
     "text": [
      "Iteration 0\n",
      "[[0.69069211 0.65473233 0.67547905 0.6135959  0.61541254 0.59345704]]\n",
      "[[0 0 0 1 0 1]]\n",
      "[[1 1 1 1 1 1]]\n",
      "0.3333333333333333\n",
      "Iteration 10\n",
      "[[0.63634255 0.60438116 0.62793192 0.58940783 0.57621544 0.56640568]]\n",
      "[[0 0 0 1 0 1]]\n",
      "[[1 1 1 1 1 1]]\n",
      "0.3333333333333333\n",
      "Iteration 20\n",
      "[[0.59693293 0.57012939 0.59824714 0.57379681 0.55325234 0.54926684]]\n",
      "[[0 0 0 1 0 1]]\n",
      "[[1 1 1 1 1 1]]\n",
      "0.3333333333333333\n",
      "Iteration 30\n",
      "[[0.57333618 0.54376974 0.57996032 0.56414567 0.53882752 0.5390542 ]]\n",
      "[[0 0 0 1 0 1]]\n",
      "[[1 1 1 1 1 1]]\n",
      "0.3333333333333333\n",
      "Iteration 40\n",
      "[[0.55491111 0.52058894 0.56390077 0.55801587 0.5271057  0.53162698]]\n",
      "[[0 0 0 1 0 1]]\n",
      "[[1 1 1 1 1 1]]\n",
      "0.3333333333333333\n",
      "Iteration 50\n",
      "[[0.54120599 0.50247133 0.55009822 0.55315    0.51651151 0.52600357]]\n",
      "[[0 0 0 1 0 1]]\n",
      "[[1 1 1 1 1 1]]\n",
      "0.3333333333333333\n",
      "Iteration 60\n",
      "[[0.53064957 0.48975394 0.53861811 0.54768772 0.50860096 0.52248761]]\n",
      "[[0 0 0 1 0 1]]\n",
      "[[1 0 1 1 1 1]]\n",
      "0.5\n",
      "Iteration 70\n",
      "[[0.52151818 0.47816288 0.52817918 0.54261775 0.50167152 0.5204637 ]]\n",
      "[[0 0 0 1 0 1]]\n",
      "[[1 0 1 1 1 1]]\n",
      "0.5\n",
      "Iteration 80\n",
      "[[0.51342486 0.46846395 0.51868885 0.53858106 0.49542111 0.51925309]]\n",
      "[[0 0 0 1 0 1]]\n",
      "[[1 0 1 1 0 1]]\n",
      "0.6666666666666666\n",
      "Iteration 90\n",
      "[[0.50598947 0.45983442 0.50987297 0.53521924 0.48963617 0.51861422]]\n",
      "[[0 0 0 1 0 1]]\n",
      "[[1 0 1 1 0 1]]\n",
      "0.6666666666666666\n",
      "Iteration 100\n",
      "[[0.49910952 0.45157753 0.50172725 0.53250961 0.48428074 0.51874337]]\n",
      "[[0 0 0 1 0 1]]\n",
      "[[0 0 1 1 0 1]]\n",
      "0.8333333333333334\n",
      "Iteration 110\n",
      "[[0.49263302 0.44358365 0.49415466 0.5303007  0.47929312 0.51944939]]\n",
      "[[0 0 0 1 0 1]]\n",
      "[[0 0 0 1 0 1]]\n",
      "1.0\n",
      "Iteration 120\n",
      "[[0.48701233 0.43581593 0.4870705  0.5285561  0.47477098 0.52077675]]\n",
      "[[0 0 0 1 0 1]]\n",
      "[[0 0 0 1 0 1]]\n",
      "1.0\n",
      "Iteration 130\n",
      "[[0.4817338  0.42826462 0.48027235 0.52721049 0.47048918 0.52250148]]\n",
      "[[0 0 0 1 0 1]]\n",
      "[[0 0 0 1 0 1]]\n",
      "1.0\n",
      "Iteration 140\n",
      "[[0.47671162 0.42093134 0.47366205 0.52608752 0.46643363 0.52484325]]\n",
      "[[0 0 0 1 0 1]]\n",
      "[[0 0 0 1 0 1]]\n",
      "1.0\n",
      "Iteration 150\n",
      "[[0.47175764 0.41380507 0.46712297 0.52530274 0.46243301 0.52739542]]\n",
      "[[0 0 0 1 0 1]]\n",
      "[[0 0 0 1 0 1]]\n",
      "1.0\n",
      "Iteration 160\n",
      "[[0.46700697 0.40711935 0.46068113 0.5248499  0.4586081  0.53052292]]\n",
      "[[0 0 0 1 0 1]]\n",
      "[[0 0 0 1 0 1]]\n",
      "1.0\n",
      "Iteration 170\n",
      "[[0.46244758 0.40046389 0.45449337 0.52419942 0.4550204  0.53409115]]\n",
      "[[0 0 0 1 0 1]]\n",
      "[[0 0 0 1 0 1]]\n",
      "1.0\n",
      "Iteration 180\n",
      "[[0.45804385 0.39391025 0.44843196 0.52375661 0.45160976 0.53826758]]\n",
      "[[0 0 0 1 0 1]]\n",
      "[[0 0 0 1 0 1]]\n",
      "1.0\n",
      "Iteration 190\n",
      "[[0.45370573 0.38766187 0.44240281 0.52381978 0.44826608 0.54288773]]\n",
      "[[0 0 0 1 0 1]]\n",
      "[[0 0 0 1 0 1]]\n",
      "1.0\n",
      "Iteration 200\n",
      "[[0.44944483 0.38161781 0.43643729 0.52418526 0.4450169  0.54805657]]\n",
      "[[0 0 0 1 0 1]]\n",
      "[[0 0 0 1 0 1]]\n",
      "1.0\n",
      "Iteration 210\n",
      "[[0.44534353 0.37595295 0.43080852 0.52736724 0.44202634 0.55451969]]\n",
      "[[0 0 0 1 0 1]]\n",
      "[[0 0 0 1 0 1]]\n",
      "1.0\n",
      "Iteration 220\n",
      "[[0.44128453 0.37078966 0.42534802 0.53319302 0.43917631 0.56225632]]\n",
      "[[0 0 0 1 0 1]]\n",
      "[[0 0 0 1 0 1]]\n",
      "1.0\n",
      "Iteration 230\n",
      "[[0.43717917 0.36569599 0.41985851 0.53947294 0.43635342 0.57061862]]\n",
      "[[0 0 0 1 0 1]]\n",
      "[[0 0 0 1 0 1]]\n",
      "1.0\n",
      "Iteration 240\n",
      "[[0.43300689 0.3607224  0.41430078 0.54635883 0.43353363 0.57953955]]\n",
      "[[0 0 0 1 0 1]]\n",
      "[[0 0 0 1 0 1]]\n",
      "1.0\n",
      "Iteration 250\n",
      "[[0.42873755 0.35580735 0.40875992 0.55373244 0.43080735 0.58896256]]\n",
      "[[0 0 0 1 0 1]]\n",
      "[[0 0 0 1 0 1]]\n",
      "1.0\n",
      "Iteration 260\n",
      "[[0.42437525 0.35093515 0.4031253  0.56169087 0.42808366 0.59941898]]\n",
      "[[0 0 0 1 0 1]]\n",
      "[[0 0 0 1 0 1]]\n",
      "1.0\n",
      "Iteration 270\n",
      "[[0.41988153 0.34616218 0.39727428 0.57022627 0.42526624 0.61089863]]\n",
      "[[0 0 0 1 0 1]]\n",
      "[[0 0 0 1 0 1]]\n",
      "1.0\n",
      "Iteration 280\n",
      "[[0.41511267 0.34144337 0.39082455 0.57803675 0.42276759 0.62128885]]\n",
      "[[0 0 0 1 0 1]]\n",
      "[[0 0 0 1 0 1]]\n",
      "1.0\n",
      "Iteration 290\n",
      "[[0.41008418 0.33671625 0.38424322 0.58593166 0.42009775 0.63147969]]\n",
      "[[0 0 0 1 0 1]]\n",
      "[[0 0 0 1 0 1]]\n",
      "1.0\n",
      "Iteration 300\n",
      "[[0.40473712 0.33210668 0.37598367 0.59426867 0.41727653 0.6419396 ]]\n",
      "[[0 0 0 1 0 1]]\n",
      "[[0 0 0 1 0 1]]\n",
      "1.0\n",
      "Iteration 310\n",
      "[[0.39926375 0.32732417 0.36767805 0.60280674 0.41457643 0.65282656]]\n",
      "[[0 0 0 1 0 1]]\n",
      "[[0 0 0 1 0 1]]\n",
      "1.0\n",
      "Iteration 320\n",
      "[[0.393721   0.32266319 0.3591847  0.61198109 0.41169836 0.66370188]]\n",
      "[[0 0 0 1 0 1]]\n",
      "[[0 0 0 1 0 1]]\n",
      "1.0\n",
      "Iteration 330\n",
      "[[0.38807945 0.31766748 0.35095685 0.62147443 0.40898256 0.67468182]]\n",
      "[[0 0 0 1 0 1]]\n",
      "[[0 0 0 1 0 1]]\n",
      "1.0\n",
      "Iteration 340\n",
      "[[0.38234772 0.31257578 0.34257195 0.63115717 0.40620888 0.68574166]]\n",
      "[[0 0 0 1 0 1]]\n",
      "[[0 0 0 1 0 1]]\n",
      "1.0\n",
      "Iteration 350\n",
      "[[0.37657209 0.30728551 0.3339149  0.64061706 0.40335232 0.69656034]]\n",
      "[[0 0 0 1 0 1]]\n",
      "[[0 0 0 1 0 1]]\n",
      "1.0\n",
      "Iteration 360\n",
      "[[0.37073309 0.30195012 0.32552166 0.65088531 0.40044295 0.70710853]]\n",
      "[[0 0 0 1 0 1]]\n",
      "[[0 0 0 1 0 1]]\n",
      "1.0\n",
      "Iteration 370\n",
      "[[0.36482764 0.29662245 0.31709124 0.66122359 0.39755974 0.71790937]]\n",
      "[[0 0 0 1 0 1]]\n",
      "[[0 0 0 1 0 1]]\n",
      "1.0\n",
      "Iteration 380\n",
      "[[0.35882539 0.29117708 0.30863869 0.67179818 0.39490487 0.72908787]]\n",
      "[[0 0 0 1 0 1]]\n",
      "[[0 0 0 1 0 1]]\n",
      "1.0\n",
      "Iteration 390\n",
      "[[0.35100361 0.28558402 0.29995775 0.68290662 0.39209409 0.74025389]]\n",
      "[[0 0 0 1 0 1]]\n",
      "[[0 0 0 1 0 1]]\n",
      "1.0\n",
      "Iteration 400\n",
      "[[0.34240319 0.28001651 0.29144298 0.69334268 0.38931136 0.75181646]]\n",
      "[[0 0 0 1 0 1]]\n",
      "[[0 0 0 1 0 1]]\n",
      "1.0\n",
      "Iteration 410\n",
      "[[0.33362706 0.27432854 0.28268375 0.70423998 0.38629853 0.76293754]]\n",
      "[[0 0 0 1 0 1]]\n",
      "[[0 0 0 1 0 1]]\n",
      "1.0\n",
      "Iteration 420\n",
      "[[0.32476642 0.26867968 0.27406315 0.71528149 0.38345124 0.77409156]]\n",
      "[[0 0 0 1 0 1]]\n",
      "[[0 0 0 1 0 1]]\n",
      "1.0\n",
      "Iteration 430\n",
      "[[0.31584322 0.26274925 0.2653638  0.72594596 0.38043165 0.78481441]]\n",
      "[[0 0 0 1 0 1]]\n",
      "[[0 0 0 1 0 1]]\n",
      "1.0\n",
      "Iteration 440\n",
      "[[0.30690354 0.25676599 0.25670179 0.73649502 0.37730792 0.79514197]]\n",
      "[[0 0 0 1 0 1]]\n",
      "[[0 0 0 1 0 1]]\n",
      "1.0\n",
      "Iteration 450\n",
      "[[0.29702125 0.25050597 0.2482566  0.74696221 0.37447202 0.80552058]]\n",
      "[[0 0 0 1 0 1]]\n",
      "[[0 0 0 1 0 1]]\n",
      "1.0\n",
      "Iteration 460\n",
      "[[0.28587403 0.24378635 0.23968138 0.75712298 0.37140821 0.8154976 ]]\n",
      "[[0 0 0 1 0 1]]\n",
      "[[0 0 0 1 0 1]]\n",
      "1.0\n",
      "Iteration 470\n",
      "[[0.27510028 0.2360861  0.23126502 0.76540853 0.36824253 0.82375122]]\n",
      "[[0 0 0 1 0 1]]\n",
      "[[0 0 0 1 0 1]]\n",
      "1.0\n",
      "Iteration 480\n",
      "[[0.26405465 0.22837499 0.22275068 0.77423479 0.36520743 0.83224221]]\n",
      "[[0 0 0 1 0 1]]\n",
      "[[0 0 0 1 0 1]]\n",
      "1.0\n",
      "Iteration 490\n",
      "[[0.25351034 0.22061485 0.21474106 0.7821046  0.36220677 0.8404145 ]]\n",
      "[[0 0 0 1 0 1]]\n",
      "[[0 0 0 1 0 1]]\n",
      "1.0\n"
     ]
    }
   ],
   "source": [
    "W1, b1, W2, b2, W3, b3 = learn(X, Y, 0.01, 500)"
   ],
   "metadata": {
    "collapsed": false,
    "ExecuteTime": {
     "end_time": "2024-03-26T23:54:47.001796Z",
     "start_time": "2024-03-26T23:54:46.916010Z"
    }
   },
   "id": "ee2ead8fe2195f9"
  },
  {
   "cell_type": "code",
   "execution_count": 619,
   "outputs": [
    {
     "name": "stdout",
     "output_type": "stream",
     "text": [
      "[[0.21752891 0.91074511 0.1293169  0.52712876]]\n"
     ]
    }
   ],
   "source": [
    "testX = np.array([[0, 0, 0],\n",
    "                  [1, 1, 1],\n",
    "                  [0, 0, 1],\n",
    "                  [1, 1, 0]])\n",
    "testX = (testX - np.mean(testX)) / np.std(testX)\n",
    "\n",
    "testX = testX.T\n",
    "print(testPrediction(testX, W1, W2, W3, b1, b2, b3))\n"
   ],
   "metadata": {
    "collapsed": false,
    "ExecuteTime": {
     "end_time": "2024-03-26T23:54:47.478404Z",
     "start_time": "2024-03-26T23:54:47.470180Z"
    }
   },
   "id": "b14643e837267e99"
  },
  {
   "cell_type": "code",
   "execution_count": 605,
   "outputs": [],
   "source": [],
   "metadata": {
    "collapsed": false,
    "ExecuteTime": {
     "end_time": "2024-03-26T18:38:00.639295Z",
     "start_time": "2024-03-26T18:38:00.631157Z"
    }
   },
   "id": "e30f0ca0d7c3772f"
  }
 ],
 "metadata": {
  "kernelspec": {
   "display_name": "Python 3",
   "language": "python",
   "name": "python3"
  },
  "language_info": {
   "codemirror_mode": {
    "name": "ipython",
    "version": 2
   },
   "file_extension": ".py",
   "mimetype": "text/x-python",
   "name": "python",
   "nbconvert_exporter": "python",
   "pygments_lexer": "ipython2",
   "version": "2.7.6"
  }
 },
 "nbformat": 4,
 "nbformat_minor": 5
}
